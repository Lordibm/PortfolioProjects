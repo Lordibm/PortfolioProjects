{
 "cells": [
  {
   "cell_type": "code",
   "execution_count": null,
   "metadata": {},
   "outputs": [],
   "source": [
    "import requests\n",
    "page = requests.get('https://www.jobberman.com/jobs/software-data')\n",
    "page.content"
   ]
  },
  {
   "cell_type": "code",
   "execution_count": null,
   "metadata": {},
   "outputs": [],
   "source": [
    "from bs4 import BeautifulSoup\n",
    "soup = BeautifulSoup(page.content, 'html.parser')\n",
    "print(soup)"
   ]
  },
  {
   "cell_type": "code",
   "execution_count": null,
   "metadata": {},
   "outputs": [],
   "source": [
    "soup.find_all('p', class_=\"text-lg font-medium break-words text-brand-linked\")"
   ]
  },
  {
   "cell_type": "code",
   "execution_count": null,
   "metadata": {},
   "outputs": [],
   "source": [
    "company_roles=soup.find_all('p', class_=\"text-lg font-medium break-words text-brand-linked\")\n",
    "role_names=[]\n",
    "\n",
    "for role in company_roles:\n",
    "  company_role=role.text\n",
    "  role_names.append(company_role)\n",
    "  print(company_role)"
   ]
  },
  {
   "cell_type": "code",
   "execution_count": null,
   "metadata": {},
   "outputs": [],
   "source": [
    "recruiting_company=soup.find_all('p', class_=\"text-sm text-brand-linked\")\n",
    "recruiting_company_name=[]\n",
    "\n",
    "for company in recruiting_company:\n",
    "  company_name=company.text\n",
    "  recruiting_company_name.append(company_name)\n",
    "  print(company_name)"
   ]
  },
  {
   "cell_type": "code",
   "execution_count": 33,
   "metadata": {},
   "outputs": [
    {
     "data": {
      "text/plain": [
       "'\\nPort Harcourt & Rivers State\\n'"
      ]
     },
     "execution_count": 33,
     "metadata": {},
     "output_type": "execute_result"
    }
   ],
   "source": [
    "#company_location=soup.find_all('span', class_=\"mb-3 px-3 py-1 rounded bg-brand-opaque mr-2\")[0].text\n",
    "#company_location"
   ]
  },
  {
   "cell_type": "code",
   "execution_count": null,
   "metadata": {},
   "outputs": [],
   "source": [
    "recruiting_company_data=list(zip(recruiting_company_name, role_names))\n",
    "recruiting_company_data"
   ]
  },
  {
   "cell_type": "code",
   "execution_count": null,
   "metadata": {},
   "outputs": [],
   "source": [
    "import csv\n",
    "\n",
    "with open('recruiting_company_data.csv', 'w' ) as f:\n",
    "  fileWriter=csv.writer(f, delimiter=',', quotechar='|', quoting=csv.QUOTE_MINIMAL)\n",
    "  for company in recruiting_company_data:\n",
    "    fileWriter.writerow(company)"
   ]
  }
 ],
 "metadata": {
  "kernelspec": {
   "display_name": "Python 3.9.13 ('base')",
   "language": "python",
   "name": "python3"
  },
  "language_info": {
   "codemirror_mode": {
    "name": "ipython",
    "version": 3
   },
   "file_extension": ".py",
   "mimetype": "text/x-python",
   "name": "python",
   "nbconvert_exporter": "python",
   "pygments_lexer": "ipython3",
   "version": "3.9.13"
  },
  "orig_nbformat": 4,
  "vscode": {
   "interpreter": {
    "hash": "610a6f344c2137faf927ea819c63f6cee33a2c04455044b28099f39fe9722347"
   }
  }
 },
 "nbformat": 4,
 "nbformat_minor": 2
}
