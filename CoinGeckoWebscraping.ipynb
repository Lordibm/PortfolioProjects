{
 "cells": [
  {
   "cell_type": "code",
   "execution_count": null,
   "metadata": {},
   "outputs": [],
   "source": [
    "import requests\n",
    "page = requests.get('https://www.coingecko.com/')\n",
    "page.content"
   ]
  },
  {
   "cell_type": "code",
   "execution_count": null,
   "metadata": {},
   "outputs": [],
   "source": [
    "from bs4 import BeautifulSoup\n",
    "soup=BeautifulSoup(page.content, 'html.parser')\n",
    "\n",
    "print(soup.text)"
   ]
  },
  {
   "cell_type": "code",
   "execution_count": null,
   "metadata": {},
   "outputs": [],
   "source": [
    "soup.find_all('span', class_=\"lg:tw-flex font-bold tw-items-center tw-justify-between\")[0].text"
   ]
  },
  {
   "cell_type": "code",
   "execution_count": null,
   "metadata": {},
   "outputs": [],
   "source": [
    "every_coin_name=soup.find_all('span', class_=\"lg:tw-flex font-bold tw-items-center tw-justify-between\")\n",
    "ranked_coin_name=[]\n",
    "\n",
    "for coin in every_coin_name:\n",
    "  coin_name=coin.text\n",
    "  ranked_coin_name.append(coin_name)\n",
    "  print(coin_name)\n"
   ]
  },
  {
   "cell_type": "code",
   "execution_count": null,
   "metadata": {},
   "outputs": [],
   "source": [
    "current_coin_price=soup.find_all('td',class_=\"td-price price text-right\")\n",
    "ranked_coin_price=[]\n",
    "\n",
    "for coin in current_coin_price:\n",
    "  coin_price= coin.span.text\n",
    "  ranked_coin_price.append(coin_price)\n",
    "  print(coin_price)\n",
    "\n"
   ]
  },
  {
   "cell_type": "code",
   "execution_count": null,
   "metadata": {},
   "outputs": [],
   "source": [
    "coin_data=list(zip(ranked_coin_name, ranked_coin_price))\n",
    "coin_data"
   ]
  },
  {
   "cell_type": "code",
   "execution_count": 85,
   "metadata": {},
   "outputs": [],
   "source": [
    "import csv\n",
    "\n",
    "with open('coin_price_data.csv', 'w') as f:\n",
    "  fileWriter=csv.writer(f,delimiter=',', quotechar=\"|\", quoting=csv.QUOTE_MINIMAL)\n",
    "  for row in coin_data:\n",
    "    fileWriter.writerow(row)\n"
   ]
  }
 ],
 "metadata": {
  "kernelspec": {
   "display_name": "Python 3.9.13 ('base')",
   "language": "python",
   "name": "python3"
  },
  "language_info": {
   "codemirror_mode": {
    "name": "ipython",
    "version": 3
   },
   "file_extension": ".py",
   "mimetype": "text/x-python",
   "name": "python",
   "nbconvert_exporter": "python",
   "pygments_lexer": "ipython3",
   "version": "3.9.13"
  },
  "orig_nbformat": 4,
  "vscode": {
   "interpreter": {
    "hash": "610a6f344c2137faf927ea819c63f6cee33a2c04455044b28099f39fe9722347"
   }
  }
 },
 "nbformat": 4,
 "nbformat_minor": 2
}
